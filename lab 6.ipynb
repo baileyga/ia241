{
 "cells": [
  {
   "cell_type": "code",
   "execution_count": 30,
   "metadata": {},
   "outputs": [],
   "source": [
    "from urllib import request\n",
    "import json\n",
    "from pprint import pprint"
   ]
  },
  {
   "cell_type": "markdown",
   "metadata": {},
   "source": [
    "# 2.1"
   ]
  },
  {
   "cell_type": "code",
   "execution_count": 35,
   "metadata": {},
   "outputs": [
    {
     "name": "stdout",
     "output_type": "stream",
     "text": [
      "['B01001_001E', 'NAME', 'state', 'county']\n",
      "1132887\n",
      "Fairfax County, Virginia\n"
     ]
    }
   ],
   "source": [
    "from urllib import request\n",
    "import json\n",
    "from pprint import pprint\n",
    "census_api_key = 'dc8fc8926aae81f0fa303c06e06ce9b335ecbdd6' \n",
    "\n",
    "\n",
    "url_str = 'https://api.census.gov/data/2016/acs/acs5?get=B01001_001E,NAME&for=county:*&in=state:51&key='+census_api_key \n",
    "response = request.urlopen(url_str) # read the response into computer\n",
    "\n",
    "html_str = response.read().decode(\"utf-8\") # convert the response into string\n",
    "\n",
    "pop_max = 0\n",
    "county_max = ''\n",
    "if (html_str):\n",
    "    json_data = json.loads(html_str) # convert the string into json\n",
    "    print (json_data[0])\n",
    "    for v1,name,state,county in json_data[1:]:\n",
    "        if pop_max < int(v1):\n",
    "            pop_max = int(v1)\n",
    "            county_max = name\n",
    "            \n",
    "    print(pop_max)\n",
    "    print(county_max)"
   ]
  },
  {
   "cell_type": "markdown",
   "metadata": {},
   "source": [
    "# 2.2"
   ]
  },
  {
   "cell_type": "code",
   "execution_count": 33,
   "metadata": {},
   "outputs": [
    {
     "name": "stdout",
     "output_type": "stream",
     "text": [
      "['B01001_001E', 'B01001_002E', 'NAME', 'state', 'county']\n",
      "560803\n",
      "Fairfax County, Virginia\n"
     ]
    }
   ],
   "source": [
    "url_str = 'https://api.census.gov/data/2016/acs/acs5?get=B01001_001E,B01001_002E,NAME&for=county:*&in=state:51&key='+census_api_key \n",
    "\n",
    "response = request.urlopen(url_str) # read the response into computer\n",
    "\n",
    "html_str = response.read().decode(\"utf-8\") # convert the response into string\n",
    "male_max = 0\n",
    "county_max = ''\n",
    "if (html_str):\n",
    "    print (json_data[0])\n",
    "    for v1,v2,name,state,county in json_data[1:]:\n",
    "        if male_max < int(v2):\n",
    "            male_max = int(v2)\n",
    "            county_max = name\n",
    "            \n",
    "    print(male_max)\n",
    "    print(county_max)"
   ]
  },
  {
   "cell_type": "markdown",
   "metadata": {},
   "source": [
    "# 2.3"
   ]
  },
  {
   "cell_type": "code",
   "execution_count": 34,
   "metadata": {},
   "outputs": [
    {
     "name": "stdout",
     "output_type": "stream",
     "text": [
      "['B01001_001E', 'B01001_002E', 'NAME', 'state', 'county']\n",
      "0.6575470894059491\n",
      "Sussex County, Virginia\n"
     ]
    }
   ],
   "source": [
    "census_api_key = 'dc8fc8926aae81f0fa303c06e06ce9b335ecbdd6' \n",
    "\n",
    "url_str = 'https://api.census.gov/data/2016/acs/acs5?get=B01001_001E,B01001_002E,NAME&for=county:*&in=state:51&key='+census_api_key \n",
    "\n",
    "response = request.urlopen(url_str)\n",
    "\n",
    "html_str = response.read().decode(\"utf-8\")\n",
    "\n",
    "pop_max = 0\n",
    "male_max = 0\n",
    "ratio_max = 0\n",
    "county_max = ''\n",
    "if (html_str):\n",
    "        json_data = json.loads(html_str)\n",
    "        print (json_data[0])\n",
    "        for v1, v2, name, state, county in json_data[1:]:\n",
    "            if ratio_max < (int(v2)/int(v1)):\n",
    "                ratio_max = (int(v2)/int(v1))\n",
    "                county_max = name\n",
    "                \n",
    "        print (ratio_max)\n",
    "        print (county_max)"
   ]
  }
 ],
 "metadata": {
  "kernelspec": {
   "display_name": "conda_python3",
   "language": "python",
   "name": "conda_python3"
  },
  "language_info": {
   "codemirror_mode": {
    "name": "ipython",
    "version": 3
   },
   "file_extension": ".py",
   "mimetype": "text/x-python",
   "name": "python",
   "nbconvert_exporter": "python",
   "pygments_lexer": "ipython3",
   "version": "3.6.5"
  }
 },
 "nbformat": 4,
 "nbformat_minor": 4
}
