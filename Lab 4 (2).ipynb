{
 "cells": [
  {
   "cell_type": "markdown",
   "metadata": {},
   "source": [
    "# Q1"
   ]
  },
  {
   "cell_type": "code",
   "execution_count": 1,
   "metadata": {},
   "outputs": [
    {
     "name": "stdout",
     "output_type": "stream",
     "text": [
      "The answer is  120\n"
     ]
    }
   ],
   "source": [
    "num = 5\n",
    "factorial = 1\n",
    "while (num > 0): \n",
    "    factorial = factorial * num\n",
    "    num = num - 1\n",
    "print (\"The answer is \", factorial)"
   ]
  },
  {
   "cell_type": "markdown",
   "metadata": {},
   "source": [
    "# Q2"
   ]
  },
  {
   "cell_type": "code",
   "execution_count": 2,
   "metadata": {},
   "outputs": [
    {
     "name": "stdout",
     "output_type": "stream",
     "text": [
      "The answer is  15\n"
     ]
    }
   ],
   "source": [
    "total = 0\n",
    "num = 5\n",
    "while ( num > 0 & num <= 5 ):\n",
    "    total = total + num\n",
    "    num = num - 1\n",
    "print (\"The answer is \", total)"
   ]
  },
  {
   "cell_type": "markdown",
   "metadata": {},
   "source": [
    "# Q3"
   ]
  },
  {
   "cell_type": "code",
   "execution_count": 3,
   "metadata": {},
   "outputs": [
    {
     "name": "stdout",
     "output_type": "stream",
     "text": [
      "The answer is  181440\n"
     ]
    }
   ],
   "source": [
    "num = 9\n",
    "product = 1\n",
    "while (num > 2): \n",
    "    product = product * num\n",
    "    num = num - 1\n",
    "print (\"The answer is \", product)"
   ]
  },
  {
   "cell_type": "markdown",
   "metadata": {},
   "source": [
    "# Q4"
   ]
  },
  {
   "cell_type": "code",
   "execution_count": 2,
   "metadata": {},
   "outputs": [
    {
     "name": "stdout",
     "output_type": "stream",
     "text": [
      "6720.0\n"
     ]
    }
   ],
   "source": [
    "top = 8\n",
    "bottom = 3\n",
    "factorial1 = 1\n",
    "factorial2 = 1\n",
    "ans = 0\n",
    "while (top > 0): \n",
    "    factorial1 = factorial1 * top\n",
    "    top = top - 1\n",
    "    if ( bottom > 0 ):\n",
    "        factorial2 = factorial2 * bottom\n",
    "        bottom = bottom - 1\n",
    "    \n",
    "ans = factorial1 / factorial2\n",
    "print (ans)"
   ]
  },
  {
   "cell_type": "markdown",
   "metadata": {},
   "source": [
    "# Q5"
   ]
  },
  {
   "cell_type": "code",
   "execution_count": 5,
   "metadata": {},
   "outputs": [
    {
     "name": "stdout",
     "output_type": "stream",
     "text": [
      "0\n",
      "1\n",
      "2\n",
      "4\n",
      "5\n"
     ]
    }
   ],
   "source": [
    "x = 0\n",
    "for x in [0, 1, 2, 3, 4, 5, 6]:\n",
    "    if x != 3:\n",
    "        if x != 6:\n",
    "            print (x)"
   ]
  },
  {
   "cell_type": "markdown",
   "metadata": {},
   "source": [
    "# Q6"
   ]
  },
  {
   "cell_type": "code",
   "execution_count": 12,
   "metadata": {},
   "outputs": [
    {
     "name": "stdout",
     "output_type": "stream",
     "text": [
      "5\n"
     ]
    }
   ],
   "source": [
    "words = 'this is my fourth string'\n",
    "split_words = words.split( )\n",
    "num = 0\n",
    "for word in split_words:\n",
    "    num = num + 1\n",
    "print ( num )"
   ]
  },
  {
   "cell_type": "markdown",
   "metadata": {},
   "source": [
    "# Q7"
   ]
  },
  {
   "cell_type": "code",
   "execution_count": 17,
   "metadata": {},
   "outputs": [
    {
     "name": "stdout",
     "output_type": "stream",
     "text": [
      "[]\n"
     ]
    }
   ],
   "source": [
    "list = [12, 32, 43, 35]\n",
    "while (len(list)) > 0:\n",
    "    list.remove( list[len(list) - 1] )\n",
    "print ( list )"
   ]
  },
  {
   "cell_type": "markdown",
   "metadata": {},
   "source": [
    "# Q8"
   ]
  },
  {
   "cell_type": "code",
   "execution_count": 19,
   "metadata": {},
   "outputs": [
    {
     "name": "stdout",
     "output_type": "stream",
     "text": [
      "5\n"
     ]
    }
   ],
   "source": [
    "words = 'this is my fourth string'\n",
    "split_words = words.split( )\n",
    "count = 0\n",
    "while ( len(split_words) > count ):\n",
    "    count = count + 1\n",
    "print ( count )"
   ]
  },
  {
   "cell_type": "markdown",
   "metadata": {},
   "source": [
    "# Q9"
   ]
  },
  {
   "cell_type": "code",
   "execution_count": 23,
   "metadata": {},
   "outputs": [],
   "source": [
    "my_tweet = {\n",
    "    \"favorite_count\":1138,\n",
    "    \"lang\": \"ch\",\n",
    "    \"coordinates\": (-75.14310264, 40.05701649),\n",
    "    \"entities\": {\"hashtags\":[\" Preds \", \"Pens\", \" SingIntoSpring \"]}\n",
    "}"
   ]
  },
  {
   "cell_type": "markdown",
   "metadata": {},
   "source": [
    "# 9.1"
   ]
  },
  {
   "cell_type": "code",
   "execution_count": 27,
   "metadata": {},
   "outputs": [
    {
     "name": "stdout",
     "output_type": "stream",
     "text": [
      "3\n"
     ]
    }
   ],
   "source": [
    "count = 0\n",
    "for x in (my_tweet[\"entities\"].get(\"hashtags\")):\n",
    "    count = count + 1\n",
    "    \n",
    "print ( count )"
   ]
  },
  {
   "cell_type": "markdown",
   "metadata": {},
   "source": [
    "# 9.2"
   ]
  },
  {
   "cell_type": "code",
   "execution_count": 29,
   "metadata": {},
   "outputs": [
    {
     "name": "stdout",
     "output_type": "stream",
     "text": [
      "3\n"
     ]
    }
   ],
   "source": [
    "count = 0\n",
    "while (len(my_tweet[\"entities\"].get(\"hashtags\")) > count):\n",
    "    count = count + 1\n",
    "\n",
    "print ( count )"
   ]
  },
  {
   "cell_type": "markdown",
   "metadata": {},
   "source": [
    "# 10"
   ]
  },
  {
   "cell_type": "code",
   "execution_count": 1,
   "metadata": {},
   "outputs": [
    {
     "name": "stdout",
     "output_type": "stream",
     "text": [
      "12\n",
      "43\n"
     ]
    }
   ],
   "source": [
    "num_list = [12, 32, 43, 35]\n",
    "max = -1\n",
    "min = -1\n",
    "num_list.sort()\n",
    "for x in num_list:\n",
    "    if ( len(num_list) > 0 ):\n",
    "        min = num_list[0]\n",
    "        max = num_list[- 1]\n",
    "        \n",
    "print (min)\n",
    "print (max)"
   ]
  }
 ],
 "metadata": {
  "kernelspec": {
   "display_name": "conda_python3",
   "language": "python",
   "name": "conda_python3"
  },
  "language_info": {
   "codemirror_mode": {
    "name": "ipython",
    "version": 3
   },
   "file_extension": ".py",
   "mimetype": "text/x-python",
   "name": "python",
   "nbconvert_exporter": "python",
   "pygments_lexer": "ipython3",
   "version": "3.6.5"
  }
 },
 "nbformat": 4,
 "nbformat_minor": 2
}
