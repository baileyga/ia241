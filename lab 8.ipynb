{
 "cells": [
  {
   "cell_type": "code",
   "execution_count": 2,
   "metadata": {},
   "outputs": [],
   "source": [
    "import pandas\n",
    "import numpy as np"
   ]
  },
  {
   "cell_type": "markdown",
   "metadata": {},
   "source": [
    "# 1"
   ]
  },
  {
   "cell_type": "code",
   "execution_count": 3,
   "metadata": {},
   "outputs": [],
   "source": [
    "bucket = 'bailey-ia241'"
   ]
  },
  {
   "cell_type": "code",
   "execution_count": 4,
   "metadata": {},
   "outputs": [],
   "source": [
    "data_key = 'house_price.xls'"
   ]
  },
  {
   "cell_type": "code",
   "execution_count": 5,
   "metadata": {},
   "outputs": [
    {
     "name": "stdout",
     "output_type": "stream",
     "text": [
      "s3://bailey-ia241/house_price.xls\n"
     ]
    }
   ],
   "source": [
    "data_location = 's3://{}/{}'.format(bucket, data_key)\n",
    "\n",
    "print(data_location)"
   ]
  },
  {
   "cell_type": "code",
   "execution_count": 14,
   "metadata": {},
   "outputs": [
    {
     "data": {
      "text/html": [
       "<div>\n",
       "<style scoped>\n",
       "    .dataframe tbody tr th:only-of-type {\n",
       "        vertical-align: middle;\n",
       "    }\n",
       "\n",
       "    .dataframe tbody tr th {\n",
       "        vertical-align: top;\n",
       "    }\n",
       "\n",
       "    .dataframe thead th {\n",
       "        text-align: right;\n",
       "    }\n",
       "</style>\n",
       "<table border=\"1\" class=\"dataframe\">\n",
       "  <thead>\n",
       "    <tr style=\"text-align: right;\">\n",
       "      <th></th>\n",
       "      <th>price</th>\n",
       "      <th>bathroom</th>\n",
       "      <th>lot_size</th>\n",
       "      <th>built_in</th>\n",
       "      <th>area</th>\n",
       "    </tr>\n",
       "  </thead>\n",
       "  <tbody>\n",
       "    <tr>\n",
       "      <th>count</th>\n",
       "      <td>3.000000e+01</td>\n",
       "      <td>30.000000</td>\n",
       "      <td>3.000000e+01</td>\n",
       "      <td>30.000000</td>\n",
       "      <td>30.000000</td>\n",
       "    </tr>\n",
       "    <tr>\n",
       "      <th>mean</th>\n",
       "      <td>3.567000e+05</td>\n",
       "      <td>2.866667</td>\n",
       "      <td>3.024873e+05</td>\n",
       "      <td>1982.766667</td>\n",
       "      <td>2495.666667</td>\n",
       "    </tr>\n",
       "    <tr>\n",
       "      <th>std</th>\n",
       "      <td>2.500429e+05</td>\n",
       "      <td>1.407696</td>\n",
       "      <td>1.073243e+06</td>\n",
       "      <td>25.078750</td>\n",
       "      <td>1370.128847</td>\n",
       "    </tr>\n",
       "    <tr>\n",
       "      <th>min</th>\n",
       "      <td>1.349000e+05</td>\n",
       "      <td>1.000000</td>\n",
       "      <td>2.178000e+03</td>\n",
       "      <td>1924.000000</td>\n",
       "      <td>900.000000</td>\n",
       "    </tr>\n",
       "    <tr>\n",
       "      <th>25%</th>\n",
       "      <td>1.756750e+05</td>\n",
       "      <td>2.000000</td>\n",
       "      <td>8.820750e+03</td>\n",
       "      <td>1966.250000</td>\n",
       "      <td>1465.250000</td>\n",
       "    </tr>\n",
       "    <tr>\n",
       "      <th>50%</th>\n",
       "      <td>3.024000e+05</td>\n",
       "      <td>2.500000</td>\n",
       "      <td>1.372150e+04</td>\n",
       "      <td>1987.000000</td>\n",
       "      <td>2069.500000</td>\n",
       "    </tr>\n",
       "    <tr>\n",
       "      <th>75%</th>\n",
       "      <td>4.365000e+05</td>\n",
       "      <td>4.000000</td>\n",
       "      <td>2.178000e+04</td>\n",
       "      <td>2001.750000</td>\n",
       "      <td>3148.750000</td>\n",
       "    </tr>\n",
       "    <tr>\n",
       "      <th>max</th>\n",
       "      <td>1.100000e+06</td>\n",
       "      <td>6.000000</td>\n",
       "      <td>4.356000e+06</td>\n",
       "      <td>2018.000000</td>\n",
       "      <td>5299.000000</td>\n",
       "    </tr>\n",
       "  </tbody>\n",
       "</table>\n",
       "</div>"
      ],
      "text/plain": [
       "              price   bathroom      lot_size     built_in         area\n",
       "count  3.000000e+01  30.000000  3.000000e+01    30.000000    30.000000\n",
       "mean   3.567000e+05   2.866667  3.024873e+05  1982.766667  2495.666667\n",
       "std    2.500429e+05   1.407696  1.073243e+06    25.078750  1370.128847\n",
       "min    1.349000e+05   1.000000  2.178000e+03  1924.000000   900.000000\n",
       "25%    1.756750e+05   2.000000  8.820750e+03  1966.250000  1465.250000\n",
       "50%    3.024000e+05   2.500000  1.372150e+04  1987.000000  2069.500000\n",
       "75%    4.365000e+05   4.000000  2.178000e+04  2001.750000  3148.750000\n",
       "max    1.100000e+06   6.000000  4.356000e+06  2018.000000  5299.000000"
      ]
     },
     "execution_count": 14,
     "metadata": {},
     "output_type": "execute_result"
    }
   ],
   "source": [
    "df = pandas.read_excel(data_location)\n",
    "df.describe()"
   ]
  },
  {
   "cell_type": "markdown",
   "metadata": {},
   "source": [
    "# 2a"
   ]
  },
  {
   "cell_type": "code",
   "execution_count": 18,
   "metadata": {},
   "outputs": [
    {
     "data": {
      "text/plain": [
       "0      100.946970\n",
       "1     1222.222222\n",
       "2      112.207152\n",
       "3      109.190231\n",
       "4      148.500000\n",
       "5       85.541242\n",
       "6      149.831650\n",
       "7      108.967675\n",
       "8       90.883117\n",
       "9      432.900433\n",
       "10     108.144796\n",
       "11      82.817680\n",
       "12      93.619048\n",
       "13     117.946782\n",
       "14     145.084270\n",
       "15     145.432498\n",
       "16     169.695457\n",
       "17     146.630435\n",
       "18     123.665174\n",
       "19     101.864667\n",
       "20     104.097222\n",
       "21     150.611621\n",
       "22     149.188838\n",
       "23     114.951558\n",
       "24     115.125392\n",
       "25     130.133929\n",
       "26     126.997717\n",
       "27     127.812258\n",
       "28     153.269025\n",
       "29     136.406995\n",
       "Name: unit_price, dtype: float64"
      ]
     },
     "execution_count": 18,
     "metadata": {},
     "output_type": "execute_result"
    }
   ],
   "source": [
    "df['unit_price'] = df['price']/df['area']\n",
    "df['unit_price']"
   ]
  },
  {
   "cell_type": "markdown",
   "metadata": {},
   "source": [
    "# 2b"
   ]
  },
  {
   "cell_type": "code",
   "execution_count": 15,
   "metadata": {},
   "outputs": [
    {
     "name": "stdout",
     "output_type": "stream",
     "text": [
      "the max price is $1100000\n"
     ]
    }
   ],
   "source": [
    "print('the max price is ${}'.format(np.amax(df['price'])))"
   ]
  },
  {
   "cell_type": "code",
   "execution_count": 16,
   "metadata": {},
   "outputs": [
    {
     "name": "stdout",
     "output_type": "stream",
     "text": [
      "the median price is $302400.0\n"
     ]
    }
   ],
   "source": [
    "print('the median price is ${}'.format(np.median(df['price'])))"
   ]
  },
  {
   "cell_type": "markdown",
   "metadata": {},
   "source": [
    "# 2c"
   ]
  },
  {
   "cell_type": "code",
   "execution_count": 17,
   "metadata": {},
   "outputs": [
    {
     "name": "stdout",
     "output_type": "stream",
     "text": [
      "the std of price is $245840.21233313315\n"
     ]
    }
   ],
   "source": [
    "print('the std of price is ${}'.format(np.std(df['price'])))"
   ]
  },
  {
   "cell_type": "markdown",
   "metadata": {},
   "source": [
    "# 2d"
   ]
  },
  {
   "cell_type": "code",
   "execution_count": 19,
   "metadata": {},
   "outputs": [],
   "source": [
    "from scipy import stats\n",
    "result = stats.linregress(df['area'], df['price'])"
   ]
  },
  {
   "cell_type": "code",
   "execution_count": 22,
   "metadata": {},
   "outputs": [
    {
     "name": "stdout",
     "output_type": "stream",
     "text": [
      "slope is 74.37646603912873\n",
      "intercept is 171081.13292168107\n",
      "R square is 0.1660981507478648\n",
      "P value is 0.025387094399552994\n"
     ]
    }
   ],
   "source": [
    "print('slope is {}'.format(result.slope))\n",
    "print('intercept is {}'.format(result.intercept))\n",
    "print('R square is {}'.format(result.rvalue * result.rvalue))\n",
    "print('P value is {}'.format(result.pvalue))"
   ]
  },
  {
   "cell_type": "markdown",
   "metadata": {},
   "source": [
    "# 2e"
   ]
  },
  {
   "cell_type": "code",
   "execution_count": 32,
   "metadata": {},
   "outputs": [
    {
     "name": "stdout",
     "output_type": "stream",
     "text": [
      "prediction of the price of a house with an area of 2,000 sqft is 319834.06499993854\n"
     ]
    }
   ],
   "source": [
    "print ('prediction of the price of a house with an area of 2,000 sqft is {}'.format(result.slope*2000+result.intercept))"
   ]
  }
 ],
 "metadata": {
  "kernelspec": {
   "display_name": "conda_python3",
   "language": "python",
   "name": "conda_python3"
  },
  "language_info": {
   "codemirror_mode": {
    "name": "ipython",
    "version": 3
   },
   "file_extension": ".py",
   "mimetype": "text/x-python",
   "name": "python",
   "nbconvert_exporter": "python",
   "pygments_lexer": "ipython3",
   "version": "3.6.5"
  }
 },
 "nbformat": 4,
 "nbformat_minor": 4
}
